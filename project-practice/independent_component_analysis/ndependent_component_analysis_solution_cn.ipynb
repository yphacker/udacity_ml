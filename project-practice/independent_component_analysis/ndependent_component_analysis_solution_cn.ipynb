{
 "cells": [
  {
   "cell_type": "markdown",
   "metadata": {},
   "source": [
    "# 独立成分分析 Lab\n",
    "\n",
    "在此 notebook 中，我们将使用独立成分分析方法从三个观察结果中提取信号，每个观察结果都包含不同的原始混音信号。这个问题与 ICA 视频中解释的问题一样。\n",
    "\n",
    "## 数据集\n",
    "首先看看手头的数据集。我们有三个 WAVE 文件，正如我们之前提到的，每个文件都是混音形式。如果你之前没有在 python 中处理过音频文件，没关系，它们实际上就是浮点数列表。\n",
    "\n",
    "\n",
    "首先加载第一个音频文件 **[ICA mix 1.wav](ICA mix 1.wav)** [点击即可聆听该文件]："
   ]
  },
  {
   "cell_type": "code",
   "execution_count": null,
   "metadata": {},
   "outputs": [],
   "source": [
    "import numpy as np\n",
    "import wave\n",
    "\n",
    "# Read the wave file\n",
    "mix_1_wave = wave.open('ICA mix 1.wav','r')"
   ]
  },
  {
   "cell_type": "markdown",
   "metadata": {},
   "source": [
    "我们看看该 wave 文件的参数，详细了解该文件"
   ]
  },
  {
   "cell_type": "code",
   "execution_count": null,
   "metadata": {},
   "outputs": [],
   "source": [
    "mix_1_wave.getparams()"
   ]
  },
  {
   "cell_type": "markdown",
   "metadata": {},
   "source": [
    "该文件只有一个声道（因此是单声道）。帧率是 44100，表示每秒声音由 44100 个整数组成（因为文件是常见的 PCM 16 位格式，所以是整数）。该文件总共有 264515 个整数/帧，因此时长为："
   ]
  },
  {
   "cell_type": "code",
   "execution_count": null,
   "metadata": {},
   "outputs": [],
   "source": [
    "264515/44100"
   ]
  },
  {
   "cell_type": "markdown",
   "metadata": {},
   "source": [
    "我们从该 wave 文件中提取帧，这些帧将属于我们将运行 ICA 的数据集："
   ]
  },
  {
   "cell_type": "code",
   "execution_count": null,
   "metadata": {},
   "outputs": [],
   "source": [
    "# Extract Raw Audio from Wav File\n",
    "signal_1_raw = mix_1_wave.readframes(-1)\n",
    "signal_1 = np.fromstring(signal_1_raw, 'Int16')"
   ]
  },
  {
   "cell_type": "markdown",
   "metadata": {},
   "source": [
    "signal_1 现在是一个整数列表，表示第一个文件中包含的声音。"
   ]
  },
  {
   "cell_type": "code",
   "execution_count": null,
   "metadata": {},
   "outputs": [],
   "source": [
    "'length: ', len(signal_1) , 'first 100 elements: ',signal_1[:100]"
   ]
  },
  {
   "cell_type": "markdown",
   "metadata": {},
   "source": [
    "如果将此数组绘制成线形图，我们将获得熟悉的波形："
   ]
  },
  {
   "cell_type": "code",
   "execution_count": null,
   "metadata": {},
   "outputs": [],
   "source": [
    "import matplotlib.pyplot as plt\n",
    "\n",
    "fs = mix_1_wave.getframerate()\n",
    "timing = np.linspace(0, len(signal_1)/fs, num=len(signal_1))\n",
    "\n",
    "\n",
    "plt.figure(figsize=(12,2))\n",
    "plt.title('Recording 1')\n",
    "plt.plot(timing,signal_1, c=\"#3ABFE7\")\n",
    "plt.ylim(-35000, 35000)\n",
    "plt.show()"
   ]
  },
  {
   "cell_type": "markdown",
   "metadata": {},
   "source": [
    "![png](output_11_1.png)\n",
    "\n",
    "\n",
    "现在我们可以按照相同的方式加载另外两个 wave 文件 **[ICA mix 2.wav](ICA mix 2.wav)** 和 **[ICA mix 3.wav](ICA mix 3.wav)**"
   ]
  },
  {
   "cell_type": "code",
   "execution_count": null,
   "metadata": {
    "scrolled": true
   },
   "outputs": [],
   "source": [
    "\n",
    "mix_2_wave = wave.open('ICA mix 2.wav','r')\n",
    "\n",
    "#Extract Raw Audio from Wav File\n",
    "signal_raw_2 = mix_2_wave.readframes(-1)\n",
    "signal_2 = np.fromstring(signal_raw_2, 'Int16')\n",
    "\n",
    "\n",
    "mix_3_wave = wave.open('ICA mix 3.wav','r')\n",
    "\n",
    "#Extract Raw Audio from Wav File\n",
    "signal_raw_3 = mix_3_wave.readframes(-1)\n",
    "signal_3 = np.fromstring(signal_raw_3, 'Int16')\n",
    "\n",
    "\n",
    "plt.figure(figsize=(12,2))\n",
    "plt.title('Recording 2')\n",
    "plt.plot(timing,signal_2, c=\"#3ABFE7\")\n",
    "plt.ylim(-35000, 35000)\n",
    "plt.show()\n",
    "\n",
    "\n",
    "plt.figure(figsize=(12,2))\n",
    "plt.title('Recording 3')\n",
    "plt.plot(timing,signal_3, c=\"#3ABFE7\")\n",
    "plt.ylim(-35000, 35000)\n",
    "plt.show()\n"
   ]
  },
  {
   "cell_type": "markdown",
   "metadata": {},
   "source": [
    "读取所有三个文件后，可以通过 [zip](https://docs.python.org/3/library/functions.html#zip) 运算创建数据集。\n",
    "\n",
    "* 通过将 signal_1、signal_2 和 signal_3 组合成一个列表创建数据集 ```X```"
   ]
  },
  {
   "cell_type": "code",
   "execution_count": null,
   "metadata": {},
   "outputs": [],
   "source": [
    "X = list(zip(signal_1, signal_2, signal_3))\n",
    "\n",
    "# Let's peak at what X looks like\n",
    "X[:10]"
   ]
  },
  {
   "cell_type": "markdown",
   "metadata": {},
   "source": [
    "现在准备运行 ICA 以尝试获取原始信号。\n",
    "\n",
    "* 导入 sklearn 的 [FastICA](http://scikit-learn.org/stable/modules/generated/sklearn.decomposition.FastICA.html) 模块\n",
    "* 初始化 FastICA，查看三个成分\n",
    "* 使用 fit_transform 对数据集 X 运行 FastICA 算法"
   ]
  },
  {
   "cell_type": "code",
   "execution_count": null,
   "metadata": {},
   "outputs": [],
   "source": [
    "# TODO: Import FastICA\n",
    "from sklearn.decomposition import FastICA\n",
    "\n",
    "# TODO: Initialize FastICA with n_components=3\n",
    "ica = FastICA(n_components=3)\n",
    "\n",
    "# TODO: Run the FastICA algorithm using fit_transform on dataset X\n",
    "ica_result = ica.fit_transform(X)"
   ]
  },
  {
   "cell_type": "code",
   "execution_count": null,
   "metadata": {},
   "outputs": [],
   "source": [
    "ica_result.shape"
   ]
  },
  {
   "cell_type": "markdown",
   "metadata": {},
   "source": [
    "我们将其拆分为单独的信号并查看这些信号"
   ]
  },
  {
   "cell_type": "code",
   "execution_count": null,
   "metadata": {},
   "outputs": [],
   "source": [
    "result_signal_1 = ica_result[:,0]\n",
    "result_signal_2 = ica_result[:,1]\n",
    "result_signal_3 = ica_result[:,2]"
   ]
  },
  {
   "cell_type": "markdown",
   "metadata": {},
   "source": [
    "我们对信号进行绘制，查看波浪线的形状"
   ]
  },
  {
   "cell_type": "code",
   "execution_count": null,
   "metadata": {},
   "outputs": [],
   "source": [
    "# Plot Independent Component #1\n",
    "plt.figure(figsize=(12,2))\n",
    "plt.title('Independent Component #1')\n",
    "plt.plot(result_signal_1, c=\"#df8efd\")\n",
    "plt.ylim(-0.010, 0.010)\n",
    "plt.show()\n",
    "\n",
    "# Plot Independent Component #2\n",
    "plt.figure(figsize=(12,2))\n",
    "plt.title('Independent Component #2')\n",
    "plt.plot(result_signal_2, c=\"#87de72\")\n",
    "plt.ylim(-0.010, 0.010)\n",
    "plt.show()\n",
    "\n",
    "# Plot Independent Component #3\n",
    "plt.figure(figsize=(12,2))\n",
    "plt.title('Independent Component #3')\n",
    "plt.plot(result_signal_3, c=\"#f65e97\")\n",
    "plt.ylim(-0.010, 0.010)\n",
    "plt.show()\n",
    "\n"
   ]
  },
  {
   "cell_type": "markdown",
   "metadata": {},
   "source": [
    "某些波浪线看起来像音乐波形吗？\n",
    "\n",
    "确认结果的最佳方式是聆听生成的文件。另存为 wave 文件并进行验证。在此之前，我们需要：\n",
    "\n",
    "* 将它们转换为整数（以便另存为 PCM 16 位 Wave 文件），否则只有某些媒体播放器能够播放它们\n",
    "* 将值映射到 int16 音频的相应范围内。该范围在 -32768 到 +32767 之间。基本的映射方法是乘以 32767。\n",
    "* 音量有点低，我们可以乘以某个值（例如 100）来提高音量"
   ]
  },
  {
   "cell_type": "code",
   "execution_count": null,
   "metadata": {},
   "outputs": [],
   "source": [
    "from scipy.io import wavfile\n",
    "\n",
    "# Convert to int, map the appropriate range, and increase the volume a little bit\n",
    "result_signal_1_int = np.int16(result_signal_1*32767*100)\n",
    "result_signal_2_int = np.int16(result_signal_2*32767*100)\n",
    "result_signal_3_int = np.int16(result_signal_3*32767*100)\n",
    "\n",
    "\n",
    "# Write wave files\n",
    "wavfile.write(\"result_signal_1.wav\", fs, result_signal_1_int)\n",
    "wavfile.write(\"result_signal_2.wav\", fs, result_signal_2_int)\n",
    "wavfile.write(\"result_signal_3.wav\", fs, result_signal_3_int)"
   ]
  },
  {
   "cell_type": "markdown",
   "metadata": {},
   "source": [
    "现在生成的文件包括：[注意：确保先调低音响设备的音量，以防某些问题导致文件听起来像静态的]\n",
    "\n",
    "* [result_signal_1.wav](result_signal_1.wav)\n",
    "* [result_signal_2.wav](result_signal_2.wav)\n",
    "* [result_signal_3.wav](result_signal_3.wav)\n",
    "\n",
    "\n",
    "音乐：\n",
    "\n",
    "* 钢琴 - The Carnival of the Animals - XIII. The Swan（钢琴曲独奏版）。演奏者：Markus Staab\n",
    "* 大提琴 - Cello Suite no. 3 in C, BWV 1009 - I. Prelude。演奏者：European Archive"
   ]
  }
 ],
 "metadata": {
  "kernelspec": {
   "display_name": "Python 3",
   "language": "python",
   "name": "python3"
  },
  "language_info": {
   "codemirror_mode": {
    "name": "ipython",
    "version": 3
   },
   "file_extension": ".py",
   "mimetype": "text/x-python",
   "name": "python",
   "nbconvert_exporter": "python",
   "pygments_lexer": "ipython3",
   "version": "3.6.3"
  }
 },
 "nbformat": 4,
 "nbformat_minor": 2
}
